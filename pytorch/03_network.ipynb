{
 "cells": [
  {
   "cell_type": "code",
   "execution_count": 1,
   "metadata": {
    "collapsed": true
   },
   "outputs": [],
   "source": [
    "import torch"
   ]
  },
  {
   "cell_type": "code",
   "execution_count": 3,
   "metadata": {
    "collapsed": true
   },
   "outputs": [],
   "source": [
    "import torch.nn as nn"
   ]
  },
  {
   "cell_type": "code",
   "execution_count": 4,
   "metadata": {
    "collapsed": true
   },
   "outputs": [],
   "source": [
    "import torch.nn.functional"
   ]
  },
  {
   "cell_type": "code",
   "execution_count": 5,
   "metadata": {
    "collapsed": true
   },
   "outputs": [],
   "source": [
    "a=nn.Linear(2,3)"
   ]
  },
  {
   "cell_type": "code",
   "execution_count": 6,
   "metadata": {
    "collapsed": true
   },
   "outputs": [],
   "source": [
    "b=nn.Linear(3,1)"
   ]
  },
  {
   "cell_type": "code",
   "execution_count": 53,
   "metadata": {
    "collapsed": true
   },
   "outputs": [],
   "source": [
    "s = nn.Sequential(a,b)"
   ]
  },
  {
   "cell_type": "code",
   "execution_count": 54,
   "metadata": {},
   "outputs": [
    {
     "name": "stdout",
     "output_type": "stream",
     "text": [
      "0.weight\n",
      "Parameter containing:\n",
      "tensor([[-1.9272, -1.2925],\n",
      "        [ 1.0217,  0.2621],\n",
      "        [ 0.2712, -0.6385]], requires_grad=True)\n",
      "0.bias\n",
      "Parameter containing:\n",
      "tensor([-2.9012,  1.9903, -0.2024], requires_grad=True)\n",
      "1.weight\n",
      "Parameter containing:\n",
      "tensor([[ 5.0571, -2.2877, -1.6559]], requires_grad=True)\n",
      "1.bias\n",
      "Parameter containing:\n",
      "tensor([-8.3193], requires_grad=True)\n"
     ]
    }
   ],
   "source": [
    "for name, value in s.named_parameters():\n",
    "    print(name)\n",
    "    print(value)"
   ]
  },
  {
   "cell_type": "code",
   "execution_count": 55,
   "metadata": {},
   "outputs": [],
   "source": [
    "lr=0.1\n",
    "params=[]\n",
    "for name, value in s.named_parameters():\n",
    "    if 'bias' in name:\n",
    "        if '1' in name:\n",
    "            params += [{'params':value, 'lr': 0 * lr, 'weight_decay': 0}]\n",
    "        else:\n",
    "            params += [{'params':value, 'lr': 2 * lr, 'weight_decay': 0}]\n",
    "    else:\n",
    "        if '1' in name:\n",
    "            params += [{'params':value, 'lr': 10 * lr}]\n",
    "        else:\n",
    "            params += [{'params':value, 'lr': 1 * lr}]"
   ]
  },
  {
   "cell_type": "code",
   "execution_count": 56,
   "metadata": {},
   "outputs": [
    {
     "data": {
      "text/plain": [
       "[{'lr': 0.1, 'params': Parameter containing:\n",
       "  tensor([[-1.9272, -1.2925],\n",
       "          [ 1.0217,  0.2621],\n",
       "          [ 0.2712, -0.6385]], requires_grad=True)},\n",
       " {'lr': 0.2, 'params': Parameter containing:\n",
       "  tensor([-2.9012,  1.9903, -0.2024], requires_grad=True), 'weight_decay': 0},\n",
       " {'lr': 1.0, 'params': Parameter containing:\n",
       "  tensor([[ 5.0571, -2.2877, -1.6559]], requires_grad=True)},\n",
       " {'lr': 0.0, 'params': Parameter containing:\n",
       "  tensor([-8.3193], requires_grad=True), 'weight_decay': 0}]"
      ]
     },
     "execution_count": 56,
     "metadata": {},
     "output_type": "execute_result"
    }
   ],
   "source": [
    "params"
   ]
  },
  {
   "cell_type": "code",
   "execution_count": 57,
   "metadata": {
    "collapsed": true
   },
   "outputs": [],
   "source": [
    "optimizer = torch.optim.SGD(params, 0.5)"
   ]
  },
  {
   "cell_type": "code",
   "execution_count": 58,
   "metadata": {
    "collapsed": true
   },
   "outputs": [],
   "source": [
    "input = torch.ones(4,2)"
   ]
  },
  {
   "cell_type": "code",
   "execution_count": 59,
   "metadata": {
    "collapsed": true
   },
   "outputs": [],
   "source": [
    "output = s(input)"
   ]
  },
  {
   "cell_type": "code",
   "execution_count": 60,
   "metadata": {},
   "outputs": [
    {
     "data": {
      "text/plain": [
       "torch.Size([4, 1])"
      ]
     },
     "execution_count": 60,
     "metadata": {},
     "output_type": "execute_result"
    }
   ],
   "source": [
    "output.shape"
   ]
  },
  {
   "cell_type": "code",
   "execution_count": 61,
   "metadata": {
    "collapsed": true
   },
   "outputs": [],
   "source": [
    "loss = torch.sum(output)"
   ]
  },
  {
   "cell_type": "code",
   "execution_count": 62,
   "metadata": {},
   "outputs": [
    {
     "data": {
      "text/plain": [
       "torch.Size([])"
      ]
     },
     "execution_count": 62,
     "metadata": {},
     "output_type": "execute_result"
    }
   ],
   "source": [
    "loss.shape"
   ]
  },
  {
   "cell_type": "code",
   "execution_count": 63,
   "metadata": {},
   "outputs": [
    {
     "name": "stdout",
     "output_type": "stream",
     "text": [
      "0.weight\n",
      "Parameter containing:\n",
      "tensor([[-1.9272, -1.2925],\n",
      "        [ 1.0217,  0.2621],\n",
      "        [ 0.2712, -0.6385]], requires_grad=True)\n",
      "0.bias\n",
      "Parameter containing:\n",
      "tensor([-2.9012,  1.9903, -0.2024], requires_grad=True)\n",
      "1.weight\n",
      "Parameter containing:\n",
      "tensor([[ 5.0571, -2.2877, -1.6559]], requires_grad=True)\n",
      "1.bias\n",
      "Parameter containing:\n",
      "tensor([-8.3193], requires_grad=True)\n"
     ]
    }
   ],
   "source": [
    "for name, value in s.named_parameters():\n",
    "    print(name)\n",
    "    print(value)"
   ]
  },
  {
   "cell_type": "code",
   "execution_count": 64,
   "metadata": {
    "collapsed": true
   },
   "outputs": [],
   "source": [
    "optimizer.zero_grad()"
   ]
  },
  {
   "cell_type": "code",
   "execution_count": 65,
   "metadata": {},
   "outputs": [],
   "source": [
    "loss.backward()"
   ]
  },
  {
   "cell_type": "code",
   "execution_count": 66,
   "metadata": {},
   "outputs": [
    {
     "name": "stdout",
     "output_type": "stream",
     "text": [
      "0.weight\n",
      "Parameter containing:\n",
      "tensor([[-1.9272, -1.2925],\n",
      "        [ 1.0217,  0.2621],\n",
      "        [ 0.2712, -0.6385]], requires_grad=True)\n",
      "0.bias\n",
      "Parameter containing:\n",
      "tensor([-2.9012,  1.9903, -0.2024], requires_grad=True)\n",
      "1.weight\n",
      "Parameter containing:\n",
      "tensor([[ 5.0571, -2.2877, -1.6559]], requires_grad=True)\n",
      "1.bias\n",
      "Parameter containing:\n",
      "tensor([-8.3193], requires_grad=True)\n"
     ]
    }
   ],
   "source": [
    "for name, value in s.named_parameters():\n",
    "    print(name)\n",
    "    print(value)"
   ]
  },
  {
   "cell_type": "code",
   "execution_count": 67,
   "metadata": {
    "collapsed": true
   },
   "outputs": [],
   "source": [
    "optimizer.step()"
   ]
  },
  {
   "cell_type": "code",
   "execution_count": 68,
   "metadata": {},
   "outputs": [
    {
     "name": "stdout",
     "output_type": "stream",
     "text": [
      "0.weight\n",
      "Parameter containing:\n",
      "tensor([[-3.9501, -3.3154],\n",
      "        [ 1.9368,  1.1771],\n",
      "        [ 0.9336,  0.0238]], requires_grad=True)\n",
      "0.bias\n",
      "Parameter containing:\n",
      "tensor([-6.9469,  3.8204,  1.1223], requires_grad=True)\n",
      "1.weight\n",
      "Parameter containing:\n",
      "tensor([[ 29.5410, -15.3838,   0.6230]], requires_grad=True)\n",
      "1.bias\n",
      "Parameter containing:\n",
      "tensor([-8.3193], requires_grad=True)\n"
     ]
    }
   ],
   "source": [
    "for name, value in s.named_parameters():\n",
    "    print(name)\n",
    "    print(value)"
   ]
  },
  {
   "cell_type": "code",
   "execution_count": 73,
   "metadata": {
    "collapsed": true
   },
   "outputs": [],
   "source": [
    "class mynet(nn.Module):\n",
    "    def __init__(self):\n",
    "        super(mynet, self).__init__()\n",
    "        self.feature = nn.Sequential(nn.Linear(2,3),nn.Linear(3,1))\n",
    "        self.fc1 = nn.Linear(1,5)"
   ]
  },
  {
   "cell_type": "code",
   "execution_count": 74,
   "metadata": {
    "collapsed": true
   },
   "outputs": [],
   "source": [
    "mnet = mynet()"
   ]
  },
  {
   "cell_type": "code",
   "execution_count": 75,
   "metadata": {},
   "outputs": [
    {
     "name": "stdout",
     "output_type": "stream",
     "text": [
      "feature.0.weight\n",
      "Parameter containing:\n",
      "tensor([[ 0.2014, -0.5081],\n",
      "        [-0.1404, -0.5360],\n",
      "        [ 0.5596,  0.5818]], requires_grad=True)\n",
      "feature.0.bias\n",
      "Parameter containing:\n",
      "tensor([ 0.5932, -0.5712,  0.5116], requires_grad=True)\n",
      "feature.1.weight\n",
      "Parameter containing:\n",
      "tensor([[-0.5601, -0.5184,  0.0063]], requires_grad=True)\n",
      "feature.1.bias\n",
      "Parameter containing:\n",
      "tensor([-0.2122], requires_grad=True)\n",
      "fc1.weight\n",
      "Parameter containing:\n",
      "tensor([[-0.8672],\n",
      "        [-0.2002],\n",
      "        [-0.6201],\n",
      "        [-0.9038],\n",
      "        [ 0.1738]], requires_grad=True)\n",
      "fc1.bias\n",
      "Parameter containing:\n",
      "tensor([ 0.7132, -0.7115, -0.4763, -0.9603, -0.5798], requires_grad=True)\n"
     ]
    }
   ],
   "source": [
    "for name, value in mnet.named_parameters():\n",
    "    print(name)\n",
    "    print(value)"
   ]
  },
  {
   "cell_type": "code",
   "execution_count": 79,
   "metadata": {},
   "outputs": [],
   "source": [
    "mnet.fc1.weight.data=torch.ones(5,1)"
   ]
  },
  {
   "cell_type": "code",
   "execution_count": 80,
   "metadata": {},
   "outputs": [
    {
     "data": {
      "text/plain": [
       "tensor([[1.],\n",
       "        [1.],\n",
       "        [1.],\n",
       "        [1.],\n",
       "        [1.]])"
      ]
     },
     "execution_count": 80,
     "metadata": {},
     "output_type": "execute_result"
    }
   ],
   "source": [
    "mnet.fc1.weight.data"
   ]
  },
  {
   "cell_type": "code",
   "execution_count": 81,
   "metadata": {},
   "outputs": [
    {
     "name": "stdout",
     "output_type": "stream",
     "text": [
      "ls: data: No such file or directory\r\n"
     ]
    }
   ],
   "source": [
    "!ls data"
   ]
  },
  {
   "cell_type": "code",
   "execution_count": null,
   "metadata": {
    "collapsed": true
   },
   "outputs": [],
   "source": []
  }
 ],
 "metadata": {
  "kernelspec": {
   "display_name": "Python 3",
   "language": "python",
   "name": "python3"
  },
  "language_info": {
   "codemirror_mode": {
    "name": "ipython",
    "version": 3
   },
   "file_extension": ".py",
   "mimetype": "text/x-python",
   "name": "python",
   "nbconvert_exporter": "python",
   "pygments_lexer": "ipython3",
   "version": "3.6.8"
  }
 },
 "nbformat": 4,
 "nbformat_minor": 2
}
