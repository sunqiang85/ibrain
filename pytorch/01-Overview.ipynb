{
 "cells": [
  {
   "cell_type": "markdown",
   "metadata": {},
   "source": [
    "# Pytorch\n",
    "## 基本概念\n",
    "pytorch本质是一个可以使用GPU运算能力的数据计算框架，类似Numpy（Numpy只支持在CPU上运算），同时支持了深度学习中常用的反向求导，常用网络，Loss计算等库。\n",
    "\n",
    "既然要使用GPU作为计算资源，就必须安装CUDA和CUDNN两个库。\n",
    "\n",
    "1. CUDA(Compute Unified Device Architecture) 库是NVIDIA推出的用于自家显卡的通用并行计算框架。在 CUDA 的架构下，一个程序分为两个部份：host 端和 device 端。Host 端是指在 CPU 上执行的部份，而 device 端则是在显示芯片上执行的部份。\n",
    "```\n",
    "官网定义：The NVIDIA® CUDA® Toolkit provides a development environment for creating high performance GPU-accelerated applications. With the CUDA Toolkit, you can develop, optimize and deploy your applications on GPU-accelerated embedded systems, desktop workstations, enterprise data centers, cloud-based platforms and HPC supercomputers. The toolkit includes GPU-accelerated libraries, debugging and optimization tools, a C/C++ compiler and a runtime library to deploy your application.\n",
    "```\n",
    "\n",
    "2. cuDNN(CUDA Deep Neural Network library)是用于针对深度神经网络的加速库\n",
    "```\n",
    "官网定义：The NVIDIA CUDA® Deep Neural Network library (cuDNN) is a GPU-accelerated library of primitives for deep neural networks. cuDNN provides highly tuned implementations for standard routines such as forward and backward convolution, pooling, normalization, and activation layers. cuDNN is part of the NVIDIA Deep Learning SDK.\n",
    "```\n"
   ]
  },
  {
   "cell_type": "markdown",
   "metadata": {},
   "source": [
    "# 关键模块\n",
    "- Tensor 张量: data, grad, grad_fn\n",
    "- Autograd 自动微分: 当Tensor的requires_grad属性为True时，Autograd模块自动为Tensor计算梯度，注意累加效应。\n",
    "- nn.Module 神经网络: 为了更方便的定义层和网络，模块化了Conv，Pool等层"
   ]
  },
  {
   "cell_type": "markdown",
   "metadata": {},
   "source": [
    "\n",
    "\n",
    "# 推荐阅读\n",
    "- 莫烦的pytorch视频教程\n",
    "- Github上非常棒的的一个tutorial [pytorch-book](https://github.com/chenyuntc/pytorch-book)\n",
    "- [常用代码集合](https://zhuanlan.zhihu.com/p/59205847)"
   ]
  },
  {
   "cell_type": "code",
   "execution_count": null,
   "metadata": {
    "collapsed": true
   },
   "outputs": [],
   "source": []
  }
 ],
 "metadata": {
  "kernelspec": {
   "display_name": "Python 3",
   "language": "python",
   "name": "python3"
  },
  "language_info": {
   "codemirror_mode": {
    "name": "ipython",
    "version": 3
   },
   "file_extension": ".py",
   "mimetype": "text/x-python",
   "name": "python",
   "nbconvert_exporter": "python",
   "pygments_lexer": "ipython3",
   "version": "3.6.8"
  }
 },
 "nbformat": 4,
 "nbformat_minor": 2
}
