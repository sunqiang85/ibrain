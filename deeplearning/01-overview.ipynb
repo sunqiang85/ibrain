{
 "cells": [
  {
   "cell_type": "markdown",
   "metadata": {},
   "source": [
    "# 概述\n",
    "## 先验知识\n",
    "- 导数：链式求导\n",
    "- 矩阵（向量化）\n",
    "- 计算图\n",
    "\n",
    "## 约定\n",
    "- 神经网络的层数不包含输入层，可以认为输入层是第0层。"
   ]
  },
  {
   "cell_type": "markdown",
   "metadata": {},
   "source": [
    "\n",
    "# 单隐层神经网络\n",
    "有论文证明单隐层网络可以近似任意计算网络。\n",
    "\n",
    "单隐层网络的计算总结就是5个公式\n",
    "\n",
    "$\n",
    "z_1=XW_1 \\\\\n",
    "a_1=\\sigma(z_1)\\\\\n",
    "z_2=a_1 W_2\\\\\n",
    "a_2=\\sigma(z_2)\\\\\n",
    "loss=L(a_2,y)\n",
    "$\n"
   ]
  },
  {
   "cell_type": "markdown",
   "metadata": {},
   "source": [
    "# 向量化\n",
    "为提升速度，我们批量处理数据，假设X为（N,D）维。同时在X增加第一列1，作为bias的系数，同样在a1中也应增加第一列1，作为W2对应的bias系数"
   ]
  },
  {
   "cell_type": "code",
   "execution_count": null,
   "metadata": {
    "collapsed": true
   },
   "outputs": [],
   "source": []
  }
 ],
 "metadata": {
  "kernelspec": {
   "display_name": "Python 3",
   "language": "python",
   "name": "python3"
  },
  "language_info": {
   "codemirror_mode": {
    "name": "ipython",
    "version": 3
   },
   "file_extension": ".py",
   "mimetype": "text/x-python",
   "name": "python",
   "nbconvert_exporter": "python",
   "pygments_lexer": "ipython3",
   "version": "3.6.8"
  }
 },
 "nbformat": 4,
 "nbformat_minor": 2
}
