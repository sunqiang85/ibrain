{
 "cells": [
  {
   "cell_type": "markdown",
   "metadata": {},
   "source": [
    "##  一 概率论的基本概念\n",
    "### 1. 随机试验\n",
    "### 2. 样本空间、随机事件\n",
    "### 3. 频率和概率\n",
    "### 4. 等可能概率模型（古典概型）\n",
    "### 5. 条件概率\n",
    "### 6. 独立性"
   ]
  },
  {
   "cell_type": "markdown",
   "metadata": {},
   "source": [
    "## 二 随机变量及其分布\n",
    "### 1. 随机变量\n",
    "### 2. 离散型随机变量及其分布律\n",
    "### 3. 随机变量的分布函数\n",
    "### 4. 连续型随机变量及其概率密度\n",
    "### 5. 随机变量的函数的分布"
   ]
  },
  {
   "cell_type": "markdown",
   "metadata": {},
   "source": [
    "## 三 多维随机变量及其分布\n",
    "### 1. 二维随机变量\n",
    "### 2. 边缘分布\n",
    "### 3. 条件分布\n",
    "### 4. 相互独立的随机变量\n",
    "### 5. 两个随机变量的函数分布"
   ]
  },
  {
   "cell_type": "markdown",
   "metadata": {},
   "source": [
    "## 四 随机变量的数字特征\n",
    "### 1. 数学期望\n",
    "### 2. 方差\n",
    "### 3. 协方差及相关系数\n",
    "### 4. 矩、协方差矩阵"
   ]
  },
  {
   "cell_type": "markdown",
   "metadata": {},
   "source": [
    "## 五 大数定律及中心极限定理\n",
    "### 1. 大数定理\n",
    "### 2. 中心极限定理"
   ]
  },
  {
   "cell_type": "markdown",
   "metadata": {},
   "source": [
    "## 六 样本及抽样分布\n",
    "### 1. 随机样本\n",
    "### 2. 直方图和箱线图\n",
    "### 3. 抽样分布"
   ]
  },
  {
   "cell_type": "markdown",
   "metadata": {},
   "source": [
    "## 七 参数估计\n",
    "### 点估计\n",
    "### 基于截尾样本的最大似然估计\n",
    "### 评估量的评选标准\n",
    "### 区间估计\n",
    "### 正态总体均值与方差的区间估计\n",
    "### 0-1分布参数的区间估计\n",
    "### 单侧置信区间"
   ]
  },
  {
   "cell_type": "markdown",
   "metadata": {},
   "source": [
    "## 八 假设检验\n",
    "### 1. 假设检验\n",
    "### 2. 正态总体均值的假设检验\n",
    "### 3. 正态总体方差的假设检验\n",
    "### 4. 置信区间与假设检验之间的关系\n",
    "### 5. 样本容量的选取\n",
    "### 6. 分布拟合检验\n",
    "### 7. 秩和检验\n",
    "### 8. 假设检验问题的p值方法"
   ]
  },
  {
   "cell_type": "code",
   "execution_count": null,
   "metadata": {},
   "outputs": [],
   "source": []
  }
 ],
 "metadata": {
  "kernelspec": {
   "display_name": "R",
   "language": "R",
   "name": "ir"
  },
  "language_info": {
   "codemirror_mode": "r",
   "file_extension": ".r",
   "mimetype": "text/x-r-source",
   "name": "R",
   "pygments_lexer": "r",
   "version": "3.5.1"
  }
 },
 "nbformat": 4,
 "nbformat_minor": 2
}
